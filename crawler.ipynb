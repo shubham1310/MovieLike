{
 "cells": [
  {
   "cell_type": "code",
   "execution_count": null,
   "metadata": {},
   "outputs": [],
   "source": [
    "import numpy as np\n",
    "import pandas as pd\n",
    "import matplotlib.pyplot as plt\n",
    "import requests\n",
    "import scipy.stats as sts\n",
    "import re\n",
    "from bs4 import BeautifulSoup\n",
    "import urllib.request\n",
    "\n",
    "headers = requests.utils.default_headers()\n",
    "headers.update(\n",
    "    {\n",
    "        'User-Agent': 'Custom User Agent 1.0',\n",
    "        'From': 'shubham9@illinois.edu' \n",
    "    }\n",
    ")"
   ]
  },
  {
   "cell_type": "code",
   "execution_count": null,
   "metadata": {
    "scrolled": false
   },
   "outputs": [],
   "source": [
    "import csv\n",
    "ids=[]\n",
    "idstoname={}\n",
    "with open('./ScrapyIMDB/scrapyIMDB/data/movie_list.csv', 'r') as csvfile:\n",
    "    spamreader = csv.reader(csvfile)\n",
    "    for row in spamreader:\n",
    "        if row[-1][-1].isnumeric():\n",
    "            if row[0]=='' or not(row[0].replace('.','',1).isdigit()):\n",
    "                pass\n",
    "            else:\n",
    "                ids.append(row[-1]) #ids for links in movies\n",
    "                idstoname[row[-1]]=row[-2] #name of the movie "
   ]
  },
  {
   "cell_type": "code",
   "execution_count": null,
   "metadata": {
    "scrolled": true
   },
   "outputs": [],
   "source": [
    "#This gets all the reviews for all the movies looks at different possible sorting methods (in sort)\n",
    "# ids=['tt2488496']\n",
    "reviewfile = open('./SearchEngine/reviews/reviews.dat','w')\n",
    "moviename= open('./SearchEngine/reviews/movienames.txt','w')\n",
    "count=0\n",
    "for k in ids[:1000]:\n",
    "    print(count,k)\n",
    "    count+=1\n",
    "    url = 'http://www.imdb.com/title/'+str(k)+'/reviews'\n",
    "    sort =['?sort=helpfulnessScore','?sort=submissionDate','?sort=totalVotes','?sort=reviewVolume','?sort=userRating']\n",
    "    direc =['&dir=desc','&dir=asc']\n",
    "    data=[]\n",
    "    user=[]\n",
    "    maintext=''\n",
    "    for i in sort:\n",
    "        for j in direc:\n",
    "            r = requests.get(url + i+j, headers=headers)\n",
    "            soup = BeautifulSoup(r.text, 'html.parser')\n",
    "            listing = soup.find(class_='lister')\n",
    "            reviews = listing.find_all(class_='lister-item-content')\n",
    "            for row in reviews:\n",
    "                if str(row.find(class_='display-name-date')).split('tt_urv\">')[1].split('</')[0] in user:\n",
    "                    break\n",
    "                else: #ensures we don't include the same review twice\n",
    "                    user.append(str(row.find(class_='display-name-date')).split('tt_urv\">')[1].split('</')[0])\n",
    "                    \n",
    "                if str(row).find('text show-more__control')>=0: #add text of review\n",
    "                    text =str(row.find(class_='text show-more__control')).split('<div class=\"text show-more__control\">')[1].split('</div>')[0]\n",
    "                else:\n",
    "                    print('doesnt exist')\n",
    "                    text=''\n",
    "                    \n",
    "                if str(row.find(class_='ipl-ratings-bar')).find('<span>') >=0: #rating of the review\n",
    "                    rating = int(str(row.find(class_='ipl-ratings-bar')).split('<span>')[1].split('</span>')[0])\n",
    "                else:\n",
    "                    rating=-1\n",
    "                \n",
    "                title = str(row.find(class_='title')).split('>')[1].split('<')[0]\n",
    "                htmlTags = re.compile('<.*?>') #cleaning up html\n",
    "                text = re.sub(htmlTags, ' ', text)\n",
    "                title = re.sub(htmlTags, ' ', title)\n",
    "                maintext+= title +' ' + text # + '\\n' \n",
    "    maintext = maintext.replace(\"\\n\", \" \")\n",
    "    maintext = maintext.replace(\"  \", \" \")\n",
    "    reviewfile.write(\"%s\\n\"%maintext)\n",
    "    moviename.write(\"%s\\n\"%idstoname[k])\n",
    "reviewfile.close()\n",
    "moviename.close()"
   ]
  },
  {
   "cell_type": "code",
   "execution_count": null,
   "metadata": {},
   "outputs": [],
   "source": [
    "#saves plot of the movies \n",
    "# ids=['tt2488496']\n",
    "title= open('./titles.dat','w')\n",
    "for k in ids[:1000]:\n",
    "    print(count,k)\n",
    "    count+=1\n",
    "    url = 'http://www.imdb.com/title/'+str(k)\n",
    "    r = requests.get(url, headers=headers)\n",
    "    soup = BeautifulSoup(r.text, 'html.parser')\n",
    "    listing = soup.find(class_='summary_text')\n",
    "    maintext = str(listing).split('>')[1].split('<')[0]\n",
    "    maintext = maintext.replace(\"\\n\", \" \")\n",
    "    maintext = (maintext.replace(\"  \", \" \")).strip()\n",
    "    title.write(\"%s\\n\"%maintext)\n",
    "title.close()"
   ]
  },
  {
   "cell_type": "code",
   "execution_count": null,
   "metadata": {},
   "outputs": [],
   "source": [
    "#saves image posters of the movies \n",
    "for k in ids[:1000]:\n",
    "    print(count,k)\n",
    "    count+=1\n",
    "    url = 'http://www.imdb.com/title/'+str(k)\n",
    "    r = requests.get(url, headers=headers)\n",
    "    soup = BeautifulSoup(r.text, 'html.parser')\n",
    "    listing = soup.find(class_='poster')\n",
    "    if not(listing==None):\n",
    "        link = str(listing).split('src=')[1].split('\"')[1]\n",
    "        urllib.request.urlretrieve(link, './SearchEngine/static/search/image/' + idstoname[k].replace(' ','').replace(':','')+\".jpg\")"
   ]
  },
  {
   "cell_type": "code",
   "execution_count": null,
   "metadata": {},
   "outputs": [],
   "source": []
  }
 ],
 "metadata": {
  "kernelspec": {
   "display_name": "Python 3",
   "language": "python",
   "name": "python3"
  },
  "language_info": {
   "codemirror_mode": {
    "name": "ipython",
    "version": 3
   },
   "file_extension": ".py",
   "mimetype": "text/x-python",
   "name": "python",
   "nbconvert_exporter": "python",
   "pygments_lexer": "ipython3",
   "version": "3.6.4"
  }
 },
 "nbformat": 4,
 "nbformat_minor": 2
}
