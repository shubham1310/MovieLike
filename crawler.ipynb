{
 "cells": [
  {
   "cell_type": "code",
   "execution_count": 1,
   "metadata": {},
   "outputs": [],
   "source": [
    "'''\n",
    "import numpy as np\n",
    "#import urllib2\n",
    "import pdb\n",
    "#response = urllib2.urlopen(\"http://www.relianceiccrankings.com/datespecific/odi/?stattype=batting&day=24&month=01&year=2000\")\n",
    "#page_source = response.read()\n",
    "import requests\n",
    "username = 'vasus'\n",
    "password = ''\n",
    "url = 'http://www.relianceiccrankings.com/datespecific/odi/?stattype=batting&day=24&month=01&year=2000'\n",
    "#r = requests.get(url, auth=(username, password))  \n",
    "r = requests.get(url, verify=False)\n",
    "page = r.content\n",
    "'''\n",
    "\n",
    "\n",
    "import numpy as np\n",
    "import pandas as pd\n",
    "import matplotlib.pyplot as plt\n",
    "import requests\n",
    "import scipy.stats as sts\n",
    "import re\n",
    "from bs4 import BeautifulSoup\n",
    "\n",
    "headers = requests.utils.default_headers()\n",
    "headers.update(\n",
    "    {\n",
    "        'User-Agent': 'Custom User Agent 1.0',\n",
    "        'From': 'shubham9@illinois.edu'  # Stick in your IITK email id\n",
    "    }\n",
    ")\n",
    "\n",
    "all_data = {}"
   ]
  },
  {
   "cell_type": "code",
   "execution_count": 2,
   "metadata": {
    "scrolled": false
   },
   "outputs": [],
   "source": [
    "import csv\n",
    "ids=[]\n",
    "idstoname={}\n",
    "with open('./ScrapyIMDB/scrapyIMDB/data/movie_list.csv', 'r') as csvfile:\n",
    "    spamreader = csv.reader(csvfile)\n",
    "    for row in spamreader:\n",
    "        if row[-1][-1].isnumeric():\n",
    "            if row[0]=='' or not(row[0].replace('.','',1).isdigit()):\n",
    "                pass\n",
    "            else:\n",
    "#                 print(row)\n",
    "                ids.append(row[-1])\n",
    "                idstoname[row[-1]]=row[-2]"
   ]
  },
  {
   "cell_type": "code",
   "execution_count": null,
   "metadata": {
    "scrolled": true
   },
   "outputs": [
    {
     "name": "stdout",
     "output_type": "stream",
     "text": [
      "0 tt2488496\n",
      "0 tt3659388\n",
      "0 tt1663202\n",
      "0 tt2096673\n",
      "0 tt0470752\n",
      "0 tt2379713\n",
      "0 tt2381249\n",
      "0 tt1895587\n",
      "0 tt1596363\n",
      "0 tt3682448\n",
      "0 tt3170832\n",
      "0 tt1823672\n",
      "0 tt2908446\n",
      "0 tt2381941\n",
      "0 tt2126355\n",
      "0 tt4046784\n",
      "0 tt1617661\n",
      "0 tt1964418\n",
      "0 tt1355683\n",
      "0 tt1502712\n",
      "0 tt0816692\n",
      "0 tt2267998\n",
      "0 tt1843866\n",
      "0 tt2084970\n",
      "0 tt2582802\n",
      "0 tt2562232\n",
      "0 tt1840309\n",
      "0 tt2179136\n",
      "0 tt2103281\n",
      "0 tt1951265\n",
      "0 tt0831387\n"
     ]
    }
   ],
   "source": [
    "# ids=['tt2488496']\n",
    "reviewfile = open('./reviews.dat','w')\n",
    "moviename= open('./moviename.dat','w')\n",
    "count=0\n",
    "for k in ids[:1000]:\n",
    "    print(count,k)\n",
    "    url = 'http://www.imdb.com/title/'+str(k)+'/reviews'\n",
    "    sort =['?sort=helpfulnessScore','?sort=submissionDate','?sort=totalVotes','?sort=reviewVolume','?sort=userRating']\n",
    "    direc =['&dir=desc','&dir=asc']\n",
    "    data=[]\n",
    "    user=[]\n",
    "    maintext=''\n",
    "    for i in sort:\n",
    "        for j in direc:\n",
    "            r = requests.get(url + i+j, headers=headers)\n",
    "            soup = BeautifulSoup(r.text, 'html.parser')\n",
    "            listing = soup.find(class_='lister')\n",
    "            reviews = listing.find_all(class_='lister-item-content')\n",
    "            for row in reviews:\n",
    "                if str(row.find(class_='display-name-date')).split('tt_urv\">')[1].split('</')[0] in user:\n",
    "                    break\n",
    "                else:\n",
    "                    user.append(str(row.find(class_='display-name-date')).split('tt_urv\">')[1].split('</')[0])\n",
    "                if str(row).find('text show-more__control')>=0:\n",
    "                    text =str(row.find(class_='text show-more__control')).split('<div class=\"text show-more__control\">')[1].split('</div>')[0]\n",
    "                else:\n",
    "                    print('doesnt exist')\n",
    "                    text=''\n",
    "                if str(row.find(class_='ipl-ratings-bar')).find('<span>') >=0:\n",
    "                    rating = int(str(row.find(class_='ipl-ratings-bar')).split('<span>')[1].split('</span>')[0])\n",
    "                else:\n",
    "                    rating=-1\n",
    "#                     print('not')\n",
    "                title = str(row.find(class_='title')).split('>')[1].split('<')[0]\n",
    "                htmlTags = re.compile('<.*?>')\n",
    "                text = re.sub(htmlTags, ' ', text)\n",
    "                title = re.sub(htmlTags, ' ', title)\n",
    "#                 print(text + '\\n\\n')\n",
    "                maintext+= title +' ' + text # + '\\n' \n",
    "#                 data.append([rating,title,text])\n",
    "#     print(k,len(data))\n",
    "    maintext = maintext.replace(\"\\n\", \" \")\n",
    "    maintext = maintext.replace(\"  \", \" \")\n",
    "#     print(maintext)\n",
    "#     print('%s'%maintext)\n",
    "    reviewfile.write(\"%s\\n\"%maintext)\n",
    "    moviename.write(\"%s\\n\"%idstoname[k])\n",
    "#     all_data[k]=maintext\n",
    "reviewfile.close()\n",
    "moviename.close()"
   ]
  },
  {
   "cell_type": "code",
   "execution_count": null,
   "metadata": {},
   "outputs": [],
   "source": [
    "# # print(all_data)\n",
    "# import pickle\n",
    "# pickle.dump(all_data,open( \"alldata.data\", \"wb\" ) )"
   ]
  },
  {
   "cell_type": "code",
   "execution_count": null,
   "metadata": {},
   "outputs": [],
   "source": [
    "# for i in ids:\n",
    "#     print(all_data[k])\n",
    "#     break"
   ]
  }
 ],
 "metadata": {
  "kernelspec": {
   "display_name": "Python 3",
   "language": "python",
   "name": "python3"
  },
  "language_info": {
   "codemirror_mode": {
    "name": "ipython",
    "version": 3
   },
   "file_extension": ".py",
   "mimetype": "text/x-python",
   "name": "python",
   "nbconvert_exporter": "python",
   "pygments_lexer": "ipython3",
   "version": "3.6.4"
  }
 },
 "nbformat": 4,
 "nbformat_minor": 2
}
