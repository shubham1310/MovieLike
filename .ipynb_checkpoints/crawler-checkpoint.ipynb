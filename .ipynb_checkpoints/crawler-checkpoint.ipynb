{
 "cells": [
  {
   "cell_type": "code",
   "execution_count": 4,
   "metadata": {},
   "outputs": [],
   "source": [
    "'''\n",
    "import numpy as np\n",
    "#import urllib2\n",
    "import pdb\n",
    "#response = urllib2.urlopen(\"http://www.relianceiccrankings.com/datespecific/odi/?stattype=batting&day=24&month=01&year=2000\")\n",
    "#page_source = response.read()\n",
    "import requests\n",
    "username = 'vasus'\n",
    "password = ''\n",
    "url = 'http://www.relianceiccrankings.com/datespecific/odi/?stattype=batting&day=24&month=01&year=2000'\n",
    "#r = requests.get(url, auth=(username, password))  \n",
    "r = requests.get(url, verify=False)\n",
    "page = r.content\n",
    "'''\n",
    "\n",
    "\n",
    "import numpy as np\n",
    "import pandas as pd\n",
    "import matplotlib.pyplot as plt\n",
    "import requests\n",
    "import scipy.stats as sts\n",
    "\n",
    "from bs4 import BeautifulSoup\n",
    "\n",
    "headers = requests.utils.default_headers()\n",
    "headers.update(\n",
    "    {\n",
    "        'User-Agent': 'Custom User Agent 1.0',\n",
    "        'From': 'shubham9@illinois.edu'  # Stick in your IITK email id\n",
    "    }\n",
    ")\n",
    "\n",
    "all_data = {}"
   ]
  },
  {
   "cell_type": "code",
   "execution_count": 5,
   "metadata": {},
   "outputs": [],
   "source": [
    "import csv\n",
    "ids=[]\n",
    "with open('./ScrapyIMDB/scrapyIMDB/data/movie_list.csv', 'r') as csvfile:\n",
    "    spamreader = csv.reader(csvfile)\n",
    "    for row in spamreader:\n",
    "        if row[-1][-1].isnumeric():\n",
    "            ids.append(row[-1])\n",
    "# print(ids)\n",
    "#             print(row[-1])\n",
    "#         else:\n",
    "#             print(row[-1])\n",
    "#             print('no')"
   ]
  },
  {
   "cell_type": "code",
   "execution_count": 6,
   "metadata": {
    "scrolled": true
   },
   "outputs": [
    {
     "name": "stdout",
     "output_type": "stream",
     "text": [
      "tt2488496 208\n",
      "tt3659388 129\n",
      "tt1663202 113\n",
      "tt2096673 115\n",
      "tt0470752 92\n",
      "tt2379713 64\n",
      "tt2381249 61\n",
      "tt1895587 69\n",
      "tt1596363 89\n",
      "tt3682448 75\n",
      "tt3170832 79\n",
      "tt1823672 107\n",
      "tt2908446 84\n",
      "tt2381941 62\n",
      "tt2126355 81\n"
     ]
    },
    {
     "ename": "AttributeError",
     "evalue": "'NoneType' object has no attribute 'find_all'",
     "output_type": "error",
     "traceback": [
      "\u001b[0;31m---------------------------------------------------------------------------\u001b[0m",
      "\u001b[0;31mAttributeError\u001b[0m                            Traceback (most recent call last)",
      "\u001b[0;32m<ipython-input-6-f1fa87a0ef34>\u001b[0m in \u001b[0;36m<module>\u001b[0;34m()\u001b[0m\n\u001b[1;32m     12\u001b[0m             \u001b[0mlisting\u001b[0m \u001b[0;34m=\u001b[0m \u001b[0msoup\u001b[0m\u001b[0;34m.\u001b[0m\u001b[0mfind\u001b[0m\u001b[0;34m(\u001b[0m\u001b[0mclass_\u001b[0m\u001b[0;34m=\u001b[0m\u001b[0;34m'lister'\u001b[0m\u001b[0;34m)\u001b[0m\u001b[0;34m\u001b[0m\u001b[0m\n\u001b[1;32m     13\u001b[0m \u001b[0;31m#             print(url + i+j)\u001b[0m\u001b[0;34m\u001b[0m\u001b[0;34m\u001b[0m\u001b[0m\n\u001b[0;32m---> 14\u001b[0;31m             \u001b[0mreviews\u001b[0m \u001b[0;34m=\u001b[0m \u001b[0mlisting\u001b[0m\u001b[0;34m.\u001b[0m\u001b[0mfind_all\u001b[0m\u001b[0;34m(\u001b[0m\u001b[0mclass_\u001b[0m\u001b[0;34m=\u001b[0m\u001b[0;34m'lister-item-content'\u001b[0m\u001b[0;34m)\u001b[0m\u001b[0;34m\u001b[0m\u001b[0m\n\u001b[0m\u001b[1;32m     15\u001b[0m             \u001b[0;32mfor\u001b[0m \u001b[0mrow\u001b[0m \u001b[0;32min\u001b[0m \u001b[0mreviews\u001b[0m\u001b[0;34m:\u001b[0m\u001b[0;34m\u001b[0m\u001b[0m\n\u001b[1;32m     16\u001b[0m                 \u001b[0;32mif\u001b[0m \u001b[0mstr\u001b[0m\u001b[0;34m(\u001b[0m\u001b[0mrow\u001b[0m\u001b[0;34m.\u001b[0m\u001b[0mfind\u001b[0m\u001b[0;34m(\u001b[0m\u001b[0mclass_\u001b[0m\u001b[0;34m=\u001b[0m\u001b[0;34m'display-name-date'\u001b[0m\u001b[0;34m)\u001b[0m\u001b[0;34m)\u001b[0m\u001b[0;34m.\u001b[0m\u001b[0msplit\u001b[0m\u001b[0;34m(\u001b[0m\u001b[0;34m'tt_urv\">'\u001b[0m\u001b[0;34m)\u001b[0m\u001b[0;34m[\u001b[0m\u001b[0;36m1\u001b[0m\u001b[0;34m]\u001b[0m\u001b[0;34m.\u001b[0m\u001b[0msplit\u001b[0m\u001b[0;34m(\u001b[0m\u001b[0;34m'</'\u001b[0m\u001b[0;34m)\u001b[0m\u001b[0;34m[\u001b[0m\u001b[0;36m0\u001b[0m\u001b[0;34m]\u001b[0m \u001b[0;32min\u001b[0m \u001b[0muser\u001b[0m\u001b[0;34m:\u001b[0m\u001b[0;34m\u001b[0m\u001b[0m\n",
      "\u001b[0;31mAttributeError\u001b[0m: 'NoneType' object has no attribute 'find_all'"
     ]
    }
   ],
   "source": [
    "# ids=['tt2488496']\n",
    "for k in ids:\n",
    "    url = 'http://www.imdb.com/title/'+str(k)+'/reviews'\n",
    "    sort =['?sort=helpfulnessScore','?sort=submissionDate','?sort=totalVotes','?sort=reviewVolume','?sort=userRating']\n",
    "    direc =['&dir=desc','&dir=asc']\n",
    "    data=[]\n",
    "    user=[]\n",
    "    for i in sort:\n",
    "        for j in direc:\n",
    "            r = requests.get(url + i+j, headers=headers)\n",
    "            soup = BeautifulSoup(r.text, 'html.parser')\n",
    "            listing = soup.find(class_='lister')\n",
    "#             print(url + i+j)\n",
    "            reviews = listing.find_all(class_='lister-item-content')\n",
    "            for row in reviews:\n",
    "                if str(row.find(class_='display-name-date')).split('tt_urv\">')[1].split('</')[0] in user:\n",
    "                    break\n",
    "                else:\n",
    "                    user.append(str(row.find(class_='display-name-date')).split('tt_urv\">')[1].split('</')[0])\n",
    "                if str(row).find('text show-more__control')>=0:\n",
    "                    text =str(row.find(class_='text show-more__control')).split('<div class=\"text show-more__control\">')[1].split('</div>')[0]\n",
    "                else:\n",
    "                    print('doesnt exist')\n",
    "                    text=''\n",
    "                if str(row.find(class_='ipl-ratings-bar')).find('<span>') >=0:\n",
    "                    rating = int(str(row.find(class_='ipl-ratings-bar')).split('<span>')[1].split('</span>')[0])\n",
    "                else:\n",
    "                    rating=-1\n",
    "#                     print('not')\n",
    "                title = str(row.find(class_='title')).split('>')[1].split('<')[0]\n",
    "                data.append([rating,title,text])\n",
    "    print(k,len(data))\n",
    "    all_data[k]=data"
   ]
  },
  {
   "cell_type": "code",
   "execution_count": null,
   "metadata": {},
   "outputs": [],
   "source": [
    "# print(all_data)\n",
    "import pickle\n",
    "pickle.dump(all_data,open( \"alldata.data\", \"wb\" ) )"
   ]
  },
  {
   "cell_type": "code",
   "execution_count": null,
   "metadata": {},
   "outputs": [],
   "source": [
    "for i in ids:\n",
    "    print(all_data[k])\n",
    "    break"
   ]
  },
  {
   "cell_type": "code",
   "execution_count": null,
   "metadata": {},
   "outputs": [],
   "source": []
  }
 ],
 "metadata": {
  "kernelspec": {
   "display_name": "Python 3",
   "language": "python",
   "name": "python3"
  },
  "language_info": {
   "codemirror_mode": {
    "name": "ipython",
    "version": 3
   },
   "file_extension": ".py",
   "mimetype": "text/x-python",
   "name": "python",
   "nbconvert_exporter": "python",
   "pygments_lexer": "ipython3",
   "version": "3.6.4"
  }
 },
 "nbformat": 4,
 "nbformat_minor": 2
}
