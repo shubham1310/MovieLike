{
 "cells": [
  {
   "cell_type": "code",
   "execution_count": null,
   "metadata": {},
   "outputs": [],
   "source": [
    "'''\n",
    "import numpy as np\n",
    "#import urllib2\n",
    "import pdb\n",
    "#response = urllib2.urlopen(\"http://www.relianceiccrankings.com/datespecific/odi/?stattype=batting&day=24&month=01&year=2000\")\n",
    "#page_source = response.read()\n",
    "import requests\n",
    "username = 'vasus'\n",
    "password = ''\n",
    "url = 'http://www.relianceiccrankings.com/datespecific/odi/?stattype=batting&day=24&month=01&year=2000'\n",
    "#r = requests.get(url, auth=(username, password))  \n",
    "r = requests.get(url, verify=False)\n",
    "page = r.content\n",
    "'''\n",
    "\n",
    "\n",
    "import numpy as np\n",
    "import pandas as pd\n",
    "import matplotlib.pyplot as plt\n",
    "import requests\n",
    "import scipy.stats as sts\n",
    "\n",
    "from bs4 import BeautifulSoup\n",
    "\n",
    "headers = requests.utils.default_headers()\n",
    "headers.update(\n",
    "    {\n",
    "        'User-Agent': 'Custom User Agent 1.0',\n",
    "        'From': 'shubham9@illinois.edu'  # Stick in your IITK email id\n",
    "    }\n",
    ")\n",
    "\n",
    "all_data = {}"
   ]
  },
  {
   "cell_type": "code",
   "execution_count": null,
   "metadata": {},
   "outputs": [],
   "source": [
    "import csv\n",
    "ids=[]\n",
    "with open('./ScrapyIMDB/scrapyIMDB/data/movie_list.csv', 'r') as csvfile:\n",
    "    spamreader = csv.reader(csvfile)\n",
    "    for row in spamreader:\n",
    "        if row[-1][-1].isnumeric():\n",
    "            ids.append(row[-1])\n",
    "# print(ids)\n",
    "#             print(row[-1])\n",
    "#         else:\n",
    "#             print(row[-1])\n",
    "#             print('no')"
   ]
  },
  {
   "cell_type": "code",
   "execution_count": null,
   "metadata": {
    "scrolled": true
   },
   "outputs": [],
   "source": [
    "# ids=['tt2488496']\n",
    "for k in ids:\n",
    "    url = 'http://www.imdb.com/title/'+str(k)+'/reviews'\n",
    "    sort =['?sort=helpfulnessScore','?sort=submissionDate','?sort=totalVotes','?sort=reviewVolume','?sort=userRating']\n",
    "    direc =['&dir=desc','&dir=asc']\n",
    "    data=[]\n",
    "    user=[]\n",
    "    for i in sort:\n",
    "        for j in direc:\n",
    "            r = requests.get(url + i+j, headers=headers)\n",
    "            soup = BeautifulSoup(r.text, 'html.parser')\n",
    "            listing = soup.find(class_='lister')\n",
    "#             print(url + i+j)\n",
    "            reviews = listing.find_all(class_='lister-item-content')\n",
    "            for row in reviews:\n",
    "                if str(row.find(class_='display-name-date')).split('tt_urv\">')[1].split('</')[0] in user:\n",
    "                    break\n",
    "                else:\n",
    "                    user.append(str(row.find(class_='display-name-date')).split('tt_urv\">')[1].split('</')[0])\n",
    "                if str(row).find('text show-more__control')>=0:\n",
    "                    text =str(row.find(class_='text show-more__control')).split('<div class=\"text show-more__control\">')[1].split('</div>')[0]\n",
    "                else:\n",
    "                    print('doesnt exist')\n",
    "                    text=''\n",
    "                if str(row.find(class_='ipl-ratings-bar')).find('<span>') >=0:\n",
    "                    rating = int(str(row.find(class_='ipl-ratings-bar')).split('<span>')[1].split('</span>')[0])\n",
    "                else:\n",
    "                    rating=-1\n",
    "                    print('not')\n",
    "                title = str(row.find(class_='title')).split('>')[1].split('<')[0]\n",
    "                data.append([rating,title,text])\n",
    "    print(len(data))\n",
    "    all_data[k]=data"
   ]
  },
  {
   "cell_type": "code",
   "execution_count": null,
   "metadata": {},
   "outputs": [],
   "source": [
    "# print(all_data)\n",
    "import pickle\n",
    "pickle.dump(all_data,open( \"alldata.data\", \"wb\" ) )"
   ]
  },
  {
   "cell_type": "code",
   "execution_count": null,
   "metadata": {},
   "outputs": [],
   "source": [
    "for i in ids:\n",
    "    print(all_data[k])\n",
    "    break"
   ]
  },
  {
   "cell_type": "code",
   "execution_count": null,
   "metadata": {},
   "outputs": [],
   "source": []
  }
 ],
 "metadata": {
  "kernelspec": {
   "display_name": "Python 3",
   "language": "python",
   "name": "python3"
  },
  "language_info": {
   "codemirror_mode": {
    "name": "ipython",
    "version": 3
   },
   "file_extension": ".py",
   "mimetype": "text/x-python",
   "name": "python",
   "nbconvert_exporter": "python",
   "pygments_lexer": "ipython3",
   "version": "3.6.4"
  }
 },
 "nbformat": 4,
 "nbformat_minor": 2
}
